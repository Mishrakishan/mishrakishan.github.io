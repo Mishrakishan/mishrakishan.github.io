{
  "cells": [
    {
      "cell_type": "markdown",
      "metadata": {
        "id": "Nhib4UcS6WSu"
      },
      "source": [
        "\n",
        "# **Quantum Mechanics 101: Stern-Gerlach Experiment**\n",
        "\n",
        "> *In quantum mechanics, we're all just particles in a wave function, collapsing and choosing a state... much like when you make a decision to watch Friends or Game of Thrones. You can never know for sure what you’ll get, but once you measure it, you’re stuck with it.*\n"
      ]
    },
    {
      "cell_type": "code",
      "execution_count": null,
      "metadata": {
        "id": "pK6l-1RBF9zg"
      },
      "outputs": [],
      "source": [
        "import numpy as np\n",
        "from matplotlib import pyplot as plt\n",
        "from qiskit import *"
      ]
    },
    {
      "cell_type": "code",
      "execution_count": 6,
      "metadata": {
        "id": "NIaM6na-GEEZ"
      },
      "outputs": [],
      "source": [
        "from qiskit import QuantumRegister, ClassicalRegister, QuantumCircuit\n",
        "from numpy import pi"
      ]
    },
    {
      "cell_type": "markdown",
      "metadata": {
        "id": "jFcTnXKaUdqN"
      },
      "source": [
        "In previous blog we introduced some basic aspects of how to use quantum computers to simulate a single spin-$\\frac{1}{2}$ degree of freedom. Of particular importance were:\n",
        "\n",
        "1. An arbitrary two-level state can be created from the default initialization $\\left|+\\right\\rangle$ by application of $\\hat{U}(\\theta,\\phi,\\lambda)$ for suitable choices of $\\theta$, $\\phi$ with $\\lambda = 0$.\n",
        "2. The spin projection of a state can be measured in any direction $\\hat{n}(\\theta,\\phi)$ by appropriately rotating the state before performing a standard measurement of $\\hat{S}^{z}$ (i.e., the \"computational basis\").\n",
        "\n",
        "We made use of both the Sampler and Estimator primitives in Qiskit. For obtaining probability distributions and raw counts, Sampler is the way to go. Expectation values of observables are most easily measured with the Estimator primitive.\n",
        "\n",
        "In this tutorial, we will build on these ideas to construct a simulation of the famous Stern-Gerlach experiment. The term \"simulation\" refers to the actual quantum processes taking place on transmon qubits rather than spins, to be distinguished from the classical \"simulator\" used by the [SPINS](http://sites.science.oregonstate.edu/~mcintyre/ph425/spins/) program to generate sample data.\n",
        "\n",
        "To streamline the process somewhat, let us begin by defining several measurement functions. The goal is to be able to <i>use</i> a bunch of quantum circuits to get results. The manual construction of gates associated with spin component measurments becomes quite tedious. It will be assumed that a circuit has been defined of the form\n",
        "\n",
        "```\n",
        "qr = QuantumRegister(nq)\n",
        "cr = ClassicalRegister(nc)\n",
        "circuit = QuantumCircuit(qr,qc)\n",
        "```\n",
        "\n",
        "Given this (empty) circuit, the qubits will always be initialized to $\\left|+\\right\\rangle$. Our task will be to perform successive measurements of various spin components. The following functions will create such measurements:"
      ]
    },
    {
      "cell_type": "code",
      "execution_count": 10,
      "metadata": {
        "id": "tn9lttnwUej0"
      },
      "outputs": [],
      "source": [
        "def measure_sx(circuit,qreg,creg):\n",
        "    circuit.ry(-np.pi/2,qreg)\n",
        "    circuit.measure(qreg,creg)\n",
        "    circuit.ry(np.pi/2,qreg)\n",
        "    return circuit\n",
        "\n",
        "def measure_sy(circuit,qreg,creg):\n",
        "    circuit.rz(-np.pi/2,qreg)\n",
        "    circuit.ry(-np.pi/2,qreg)\n",
        "    circuit.measure(qreg,creg)\n",
        "    circuit.ry(np.pi/2,qreg)\n",
        "    circuit.rz(np.pi/2,qreg)\n",
        "    return circuit\n",
        "\n",
        "def measure_sz(circuit,qreg,creg):\n",
        "    circuit.measure(qreg,creg)\n",
        "    return circuit"
      ]
    },
    {
      "cell_type": "markdown",
      "metadata": {
        "id": "GMUHJjjnUjfd"
      },
      "source": [
        "<b>Important warning: </b> The above functions will rotate the system, perform the measurement, and then <i>un-rotate</i> the system. This is perhaps the easiest conceptual way to approach repeated measurements. However, it's far from the most efficient approach. One could design each compound circuit from scratch to reduce the number of gates. For our purposes (and certainly with simulator results), this shouldn't matter much. But if you want to do quantum computing for a living, you'll want to pay much more attention to doing things with as few gates as possible.\n",
        "\n",
        "With that disclaimer out of the way, let's get going and take a single spin represented by a single qubit. Implicitly, the initialization of the qubit in the state $\\left|0\\right\\rangle$ represents a measurement of $\\hat{S}^{z}$ on an unpolarized beam followed by discarding all the spins in state $\\left|-\\right\\rangle$.\n",
        "\n",
        "So here's a simple task: imagine we wish to perform the following sequence of measurements (screenshot from [SPINS Java app](http://sites.science.oregonstate.edu/~mcintyre/ph425/spins/)):\n",
        "\n",
        "![Description of the image](\"/assets/img/sg1a.jpg\")\n",
        "\n",
        "It's important to note that the IBM quantum hardware essentially takes care of the first measurement and only feeds us the $\\left|+\\right\\rangle$ states which emerge from the first analyzer. Of course it doesn't actually generate the states this way, but for purposes of simulation we can pretend that's what's happening.\n",
        "\n",
        "Our job is just to complete the circuit, which just involves measuring $\\hat{S}^{x}$:"
      ]
    },
    {
      "cell_type": "code",
      "execution_count": 11,
      "metadata": {
        "colab": {
          "base_uri": "https://localhost:8080/",
          "height": 191
        },
        "id": "-O5ldADgUg2H",
        "outputId": "8eae0cc0-4060-4fb3-ec1f-ca978ec44f00"
      },
      "outputs": [
        {
          "data": {
            "image/png": "[encoded data removed]",
            "text/plain": [
              "<Figure size 370.906x200.667 with 1 Axes>"
            ]
          },
          "execution_count": 11,
          "metadata": {},
          "output_type": "execute_result"
        }
      ],
      "source": [
        "qr = QuantumRegister(1)\n",
        "cr = ClassicalRegister(1)\n",
        "\n",
        "circ = QuantumCircuit(qr,cr)\n",
        "circ = measure_sx(circ,0,0)\n",
        "circ.draw('mpl')"
      ]
    },
    {
      "cell_type": "markdown",
      "metadata": {
        "id": "S7gBrLWVUnXq"
      },
      "source": [
        "Recall that the measurement process takes the state of qubit and writes it to the classical register, which is just a blank set of slots (also initialized to zero). When we begin taking multiple measurements, we'll need to write to different slots on the classical register to record all the measurements.\n",
        "\n",
        "But for now, this should do it. Let's see what happens. For simplicity, we'll run the simulator. One wrinkle is that the ```StatevectorSampler``` does not support so-called \"mid-circuit measurements\" (measurements which are followed by additional gates). We can get around this by using the ```qiskit-aer``` package, but this needs to be installed. On a command line using ```pip```, this is as simple as\n",
        "\n",
        "```pip install qiskit-aer```\n",
        "\n",
        "For more information, see the documentation for [Qiskit Aer](https://qiskit.github.io/qiskit-aer/)."
      ]
    },
    {
      "cell_type": "code",
      "execution_count": 13,
      "metadata": {
        "id": "WHGKpUONUlOa"
      },
      "outputs": [],
      "source": [
        "nshots = 1024\n",
        "\n",
        "from qiskit_aer import AerSimulator\n",
        "\n",
        "# For execution\n",
        "simulator = AerSimulator()\n",
        "compiled_circuit = transpile(circ, simulator)\n",
        "sim_result = simulator.run(compiled_circuit).result()\n",
        "counts = sim_result.get_counts()"
      ]
    },
    {
      "cell_type": "code",
      "execution_count": 14,
      "metadata": {
        "colab": {
          "base_uri": "https://localhost:8080/"
        },
        "id": "mrkWRe9zUpEs",
        "outputId": "96370155-48eb-461f-c5d9-83400bc4e5c3"
      },
      "outputs": [
        {
          "data": {
            "text/plain": [
              "{'0': 505, '1': 519}"
            ]
          },
          "execution_count": 14,
          "metadata": {},
          "output_type": "execute_result"
        }
      ],
      "source": [
        "counts"
      ]
    },
    {
      "cell_type": "markdown",
      "metadata": {
        "id": "mUhmRdYdU7AT"
      },
      "source": [
        "This could also be run on actual hardware as follows."
      ]
    },
    {
      "cell_type": "code",
      "execution_count": null,
      "metadata": {
        "id": "6sJdjeO4Wpww"
      },
      "outputs": [],
      "source": []
    },
    {
      "cell_type": "code",
      "execution_count": 16,
      "metadata": {
        "colab": {
          "base_uri": "https://localhost:8080/",
          "height": 35
        },
        "id": "jk8mEAC7U4um",
        "outputId": "f579140d-4704-444c-9eaa-1128b1cf86a2"
      },
      "outputs": [
        {
          "data": {
            "application/vnd.google.colaboratory.intrinsic+json": {
              "type": "string"
            },
            "text/plain": [
              "'ibm_kyiv'"
            ]
          },
          "execution_count": 16,
          "metadata": {},
          "output_type": "execute_result"
        }
      ],
      "source": [
        "service = QiskitRuntimeService(channel=\"ibm_quantum\",token=\"ee69f80653e849ef260d4491a35f844f13aecd3cb351c65f654fc4fe74a83c45cf2a7de57836ffe3028c187f22d53f653b20f42493471d86dc75251fd0b25dd5\")\n",
        "backend = service.least_busy(operational=True, simulator=False, min_num_qubits=127)\n",
        "backend.name"
      ]
    },
    {
      "cell_type": "code",
      "execution_count": 17,
      "metadata": {
        "id": "P042aICnU-Y9"
      },
      "outputs": [],
      "source": [
        "from qiskit.transpiler.preset_passmanagers import generate_preset_pass_manager\n",
        "\n",
        "pm = generate_preset_pass_manager(backend=backend, optimization_level=3)\n",
        "isa_circuit = pm.run(circ)\n",
        "\n",
        "#Execute using Qiskit primitives.\n",
        "from qiskit_ibm_runtime import QiskitRuntimeService, SamplerV2 as Sampler\n",
        "\n",
        "nshots = 1024\n",
        "sampler = Sampler(backend)\n",
        "job = sampler.run([(isa_circuit)],shots=nshots)\n",
        "\n",
        "result = job.result()"
      ]
    },
    {
      "cell_type": "code",
      "execution_count": 18,
      "metadata": {
        "colab": {
          "base_uri": "https://localhost:8080/",
          "height": 429
        },
        "id": "ixjN5PrvVCq8",
        "outputId": "3480e55a-5c75-4263-a012-fa63a0efb526"
      },
      "outputs": [
        {
          "data": {
            "image/png": "[encoded data removed]",
            "text/plain": [
              "<Figure size 640x480 with 1 Axes>"
            ]
          },
          "execution_count": 18,
          "metadata": {},
          "output_type": "execute_result"
        }
      ],
      "source": [
        "from qiskit.visualization import plot_histogram\n",
        "plot_histogram([counts])"
      ]
    },
    {
      "cell_type": "markdown",
      "metadata": {
        "id": "r2rZv4iqVE0h"
      },
      "source": [
        "Recall that we need to interpet '0' or '1' as '+' or '-' <i>in this basis for which the measurment is performed</i>. We conclude that of all the spins initialized in $\\left|+\\right\\rangle$, about half were measured to be $\\left|+\\right\\rangle_{x}$ while the other half were measured to be in $\\left|-\\right\\rangle_{-}$. So far nothing too magical.\n",
        "    \n",
        "Surely, measuring $\\hat{S}^{z}$ one more time would return $+$ for all measurements since the state began in that eigenstate. We can explore this by adding another measurement. Since this will require a larger classical register to store two measurements, we'll just redo the circuit:"
      ]
    },
    {
      "cell_type": "code",
      "execution_count": 34,
      "metadata": {
        "colab": {
          "base_uri": "https://localhost:8080/",
          "height": 94
        },
        "id": "wiBVno8_VDHX",
        "outputId": "bae636b9-3eb8-45e4-aae9-73e53adbd8f3"
      },
      "outputs": [
        {
          "data": {
            "text/html": [
              "<pre style=\"word-wrap: normal;white-space: pre;background: #fff0;line-height: 1.1;font-family: &quot;Courier New&quot;,Courier,monospace\">     ┌──────────┐┌─┐┌─────────┐┌─┐\n",
              "q10: ┤ Ry(-π/2) ├┤M├┤ Ry(π/2) ├┤M├\n",
              "     └──────────┘└╥┘└─────────┘└╥┘\n",
              "c: 2/═════════════╩═════════════╩═\n",
              "                  1             0 </pre>"
            ],
            "text/plain": [
              "     ┌──────────┐┌─┐┌─────────┐┌─┐\n",
              "q10: ┤ Ry(-π/2) ├┤M├┤ Ry(π/2) ├┤M├\n",
              "     └──────────┘└╥┘└─────────┘└╥┘\n",
              "c: 2/═════════════╩═════════════╩═\n",
              "                  1             0 "
            ]
          },
          "execution_count": 34,
          "metadata": {},
          "output_type": "execute_result"
        }
      ],
      "source": [
        "qr = QuantumRegister(1)\n",
        "cr = ClassicalRegister(2,'c')\n",
        "\n",
        "circ = QuantumCircuit(qr,cr)\n",
        "circ = measure_sx(circ,0,1)\n",
        "circ = measure_sz(circ,0,0)\n",
        "circ.draw()"
      ]
    },
    {
      "cell_type": "code",
      "execution_count": 36,
      "metadata": {
        "colab": {
          "base_uri": "https://localhost:8080/",
          "height": 191
        },
        "id": "0D0oXsnYYhO0",
        "outputId": "4c864e85-24e4-4ecd-d518-1eaf82f17cc6"
      },
      "outputs": [
        {
          "data": {
            "image/png": "[encoded data removed]",
            "text/plain": [
              "<Figure size 472.545x200.667 with 1 Axes>"
            ]
          },
          "execution_count": 36,
          "metadata": {},
          "output_type": "execute_result"
        }
      ],
      "source": [
        "circ.draw(\"mpl\")"
      ]
    },
    {
      "cell_type": "markdown",
      "metadata": {
        "id": "2Op-jhplVYmm"
      },
      "source": [
        "One potentially confusing item (at least for me): It appears the the classical register state is written right-to-left. I tend to think left-to-right in most cases, so I have written the first measurement to ```cr[1]``` and the second to ```cr[0]```. It doesn't matter which measurement gets stored where, but (as of the time of writing this) this appears be necessary to get an output that can be read from left to right (but more on this below!). For completion, here is the Stern-Gerlach setup being used:\n",
        "\n",
        "<img src=\"Mishrakishan/mishrakishan.github.io/assets/img/spins1.jpg\" alt=\"sg2\" width=\"600\"/>\n",
        "\n",
        "As before, the initialization on the backend takes care of the first $\\hat{S}^{z}$ measurement. Note that the Stern-Gerlach experiment only feeds the $\\left|+\\right\\rangle_{x}$ into the final analyzer. There is nothing in our quantum circuit that makes this restriction, but we will be able to account for this once we get the counts--the joys of post-processing!\n",
        "\n",
        "So let's run this thing and see what happens:"
      ]
    },
    {
      "cell_type": "code",
      "execution_count": 20,
      "metadata": {
        "id": "BgQMZMsUVGYf"
      },
      "outputs": [],
      "source": [
        "nshots = 8192\n",
        "\n",
        "# For execution\n",
        "simulator = AerSimulator()\n",
        "compiled_circuit = transpile(circ, simulator)\n",
        "sim_result = simulator.run(compiled_circuit, shots = nshots).result()\n",
        "counts = sim_result.get_counts()"
      ]
    },
    {
      "cell_type": "markdown",
      "metadata": {
        "id": "fCUgV0U5VgHX"
      },
      "source": [
        "This one is a little more interesting, so let's also give it a run on a real device."
      ]
    },
    {
      "cell_type": "code",
      "execution_count": 21,
      "metadata": {
        "colab": {
          "base_uri": "https://localhost:8080/",
          "height": 35
        },
        "id": "AmHyIA-4Vo5t",
        "outputId": "b8d0356a-b408-4f95-8081-edb27ebe45bc"
      },
      "outputs": [
        {
          "data": {
            "application/vnd.google.colaboratory.intrinsic+json": {
              "type": "string"
            },
            "text/plain": [
              "'ibm_kyiv'"
            ]
          },
          "execution_count": 21,
          "metadata": {},
          "output_type": "execute_result"
        }
      ],
      "source": [
        "service = QiskitRuntimeService(channel=\"ibm_quantum\",token=\"Token Code\")\n",
        "backend = service.least_busy(operational=True, simulator=False, min_num_qubits=127)\n",
        "backend.name"
      ]
    },
    {
      "cell_type": "code",
      "execution_count": 22,
      "metadata": {
        "id": "RRJCWF6BVrwS"
      },
      "outputs": [],
      "source": [
        "from qiskit.transpiler.preset_passmanagers import generate_preset_pass_manager\n",
        "\n",
        "pm = generate_preset_pass_manager(backend=backend, optimization_level=3)\n",
        "isa_circuit = pm.run(circ)\n",
        "\n",
        "#Execute using Qiskit primitives.\n",
        "from qiskit_ibm_runtime import QiskitRuntimeService, SamplerV2 as Sampler\n",
        "\n",
        "sampler = Sampler(backend)\n",
        "job = sampler.run([(isa_circuit)],shots=nshots)\n",
        "\n",
        "result = job.result()"
      ]
    },
    {
      "cell_type": "code",
      "execution_count": 23,
      "metadata": {
        "id": "rEcBYCGKVtkS"
      },
      "outputs": [],
      "source": [
        "from qiskit_ibm_runtime import QiskitRuntimeService\n",
        "\n",
        "job = service.job('cyv1qa538jq0008xy0r0')\n",
        "result = job.result()"
      ]
    },
    {
      "cell_type": "code",
      "execution_count": 24,
      "metadata": {
        "id": "pIkVdXucXIjC"
      },
      "outputs": [],
      "source": [
        "counts_q = result[0].data.c.get_counts()"
      ]
    },
    {
      "cell_type": "code",
      "execution_count": 25,
      "metadata": {
        "colab": {
          "base_uri": "https://localhost:8080/",
          "height": 437
        },
        "id": "R9HElrx7XK0K",
        "outputId": "47820aff-0267-4916-a456-e9e5b4c0c994"
      },
      "outputs": [
        {
          "data": {
            "image/png": "[encoded data removed]",
            "text/plain": [
              "<Figure size 640x480 with 1 Axes>"
            ]
          },
          "execution_count": 25,
          "metadata": {},
          "output_type": "execute_result"
        }
      ],
      "source": [
        "plot_histogram([counts,counts_q],legend=['simulator','device'])"
      ]
    },
    {
      "cell_type": "markdown",
      "metadata": {
        "id": "myhIP6RqXTMA"
      },
      "source": [
        "Crudely, it looks like about a quarter of the initial $\\left|+\\right\\rangle$ spins go into each state. There's a bit to unpack here, so let's do it carefully.\n",
        "\n",
        "The classical register stores the outcomes ('0' or '1' in qubit language corresponding to '+' or '-' in spin language) of a single measurement. Our \"counts\" tell us all of the classical register states and how many times each was observed.\n",
        "\n",
        "Let's start with '00'. In the spin language, this is '++'. But the register doesn't record the measurement direction, so we have to reintroduce that information when interpreting what it means. Recalling that we begin with a state $\\left|+\\right\\rangle$, we measured $\\hat{S}^{x}$ and then measured $\\hat{S}^{z}$. Thus, the state labeled by '00' means the measurment of $\\hat{S}^{x}$ returned +$\\frac{\\hbar}{2}$, projecting the system into the eigenstate $\\left|+\\right\\rangle_{x}$, and the subsequent measurement of $\\hat{S}^{z}$ resulted in $+\\frac{\\hbar}{2}$. Since the initialization <i>gave</i> us a state with $S^{z} = + \\frac{\\hbar}{2}$, this all seems quite reasonable.\n",
        "\n",
        "But the <i>funny</i> business concerns the existence of states '01' and '11'. The second register element being '1' indicates that the $\\hat{S}^{z}$ measurement returned $-\\frac{\\hbar}{2}$. This is bizarre because it's like observing that an apple is red, tasting it to find that it is sweet, and then looking to see that it is green. Well that's a sloppy analogy, but no analogy is perfect.\n"
      ]
    },
    {
      "cell_type": "code",
      "execution_count": 39,
      "metadata": {
        "id": "KhpR8YfCXMRQ"
      },
      "outputs": [],
      "source": [
        "qr = QuantumRegister(1)\n",
        "cr = ClassicalRegister(2)\n",
        "\n",
        "circ = QuantumCircuit(qr,cr)\n",
        "circ = measure_sz(circ,0,1)\n",
        "circ = measure_sz(circ,0,0)\n",
        "circ.draw()\n",
        "\n",
        "# For execution\n",
        "simulator = AerSimulator()\n",
        "compiled_circuit = transpile(circ, simulator)\n",
        "sim_result = simulator.run(compiled_circuit).result()\n",
        "counts = sim_result.get_counts()"
      ]
    },
    {
      "cell_type": "code",
      "execution_count": 40,
      "metadata": {
        "colab": {
          "base_uri": "https://localhost:8080/",
          "height": 191
        },
        "id": "btCagcFfYu8Q",
        "outputId": "fc4c4d3d-ad9b-4932-d328-da335855b0f0"
      },
      "outputs": [
        {
          "data": {
            "image/png": "[encoded data removed]",
            "text/plain": [
              "<Figure size 305.727x200.667 with 1 Axes>"
            ]
          },
          "execution_count": 40,
          "metadata": {},
          "output_type": "execute_result"
        }
      ],
      "source": [
        "circ.draw(\"mpl\")"
      ]
    },
    {
      "cell_type": "code",
      "execution_count": 27,
      "metadata": {
        "colab": {
          "base_uri": "https://localhost:8080/",
          "height": 437
        },
        "id": "pdEki3qBXQmi",
        "outputId": "589e006a-60a6-4714-db3b-cb2b257f039d"
      },
      "outputs": [
        {
          "data": {
            "image/png": "[encoded data removed]",
            "text/plain": [
              "<Figure size 640x480 with 1 Axes>"
            ]
          },
          "execution_count": 27,
          "metadata": {},
          "output_type": "execute_result"
        }
      ],
      "source": [
        "plot_histogram([counts])"
      ]
    },
    {
      "cell_type": "markdown",
      "metadata": {
        "id": "r-eybdoXXYdj"
      },
      "source": [
        "Here we see that repeated measurements of $\\hat{S}^{z}$ consistently return the same value. That is, '00' refers to repeated measurements of \"+\" whereas a reading of '01' would follow from a measurement of $S^{z}\\rightarrow +\\frac{\\hbar}{2}$ followed by an immediate measurement of $S^{z}$ which yielded $-\\frac{\\hbar}{2}$. Given that '00' is essentially the only result (aside from noise, error), one can conclude that repeated measurements of $\\hat{S}^{z}$ will give the same value.\n",
        "\n",
        "It's only when a non-commuting observable is measured between successive measurements that different results are obtained."
      ]
    },
    {
      "cell_type": "markdown",
      "metadata": {
        "id": "MDrAFW-UXbJM"
      },
      "source": [
        "<b>Exercise: </b> Instead of $\\hat{S}^{z}$, try measuring $\\hat{S}^{x}$ twice. Are the results the same as the previous case? Why or why not?"
      ]
    },
    {
      "cell_type": "code",
      "execution_count": 37,
      "metadata": {
        "id": "j_TEqyytXWKv"
      },
      "outputs": [],
      "source": [
        "qr = QuantumRegister(1)\n",
        "cr = ClassicalRegister(2)\n",
        "\n",
        "circ = QuantumCircuit(qr,cr)\n",
        "circ = measure_sx(circ,0,1)\n",
        "circ = measure_sx(circ,0,0)\n",
        "circ.draw()\n",
        "\n",
        "# For execution\n",
        "simulator = AerSimulator()\n",
        "compiled_circuit = transpile(circ, simulator)\n",
        "sim_result = simulator.run(compiled_circuit).result()\n",
        "counts = sim_result.get_counts()"
      ]
    },
    {
      "cell_type": "code",
      "execution_count": 38,
      "metadata": {
        "colab": {
          "base_uri": "https://localhost:8080/",
          "height": 191
        },
        "id": "PkyIQntNYo3f",
        "outputId": "eddfb806-ecc0-431b-b823-6bd97053c335"
      },
      "outputs": [
        {
          "data": {
            "image/png": "[encoded data removed]",
            "text/plain": [
              "<Figure size 639.969x200.667 with 1 Axes>"
            ]
          },
          "execution_count": 38,
          "metadata": {},
          "output_type": "execute_result"
        }
      ],
      "source": [
        "circ.draw(\"mpl\")"
      ]
    },
    {
      "cell_type": "code",
      "execution_count": 29,
      "metadata": {
        "colab": {
          "base_uri": "https://localhost:8080/",
          "height": 437
        },
        "id": "K4C5ULm1Xcdm",
        "outputId": "36671ad9-2229-4585-e645-2803a1b8a8a3"
      },
      "outputs": [
        {
          "data": {
            "image/png": "[encoded data removed]",
            "text/plain": [
              "<Figure size 640x480 with 1 Axes>"
            ]
          },
          "execution_count": 29,
          "metadata": {},
          "output_type": "execute_result"
        }
      ],
      "source": [
        "plot_histogram([counts])"
      ]
    },
    {
      "cell_type": "markdown",
      "metadata": {
        "id": "b6verFV_Xfiu"
      },
      "source": [
        "From the histogram, we see that the measurements are roughly evenly divided between '00' and '11'. Recall that the circuit measures $\\hat{S}^{x}$ twice given an initial state of $\\left|+\\right\\rangle$. This splitting means that the initial state gives $S^{x} = \\pm\\frac{\\hbar}{2}$ with roughly equal frequency upon the first measurement. The only states with any significant probability (at the end of the circuit) are '00' and '11', so we can say definitively that any of the initial spins which registered $S^{x} = + \\frac{\\hbar}{2}$ upon the first measurement also give the same value in the second measurement (and similar for $S^{x} = -\\frac{\\hbar}{2}$).\n",
        "\n",
        "Given the results of the previous exercise, we can conclude that repeated measurements on an eigenstate (of that operator) will yield a consistent value for that observable. However, measuring <i>other</i> observables <i>can</i> destroy the notion of a well-defined value for the first observable.\n",
        "\n",
        "<b>Technical note: </b> We will see again and again that two <i>commuting</i> operators have simultaneous eigenvalues, so we can assign well-defined values to both quantities. It's when the operators don't commute that we run into this quantum weirdness."
      ]
    },
    {
      "cell_type": "markdown",
      "metadata": {
        "id": "9-nSGi3FXhtT"
      },
      "source": [
        "<b>Exercise</b>: Open the SPINS program and run the following simulation:\n",
        "\n",
        "<img src=\"assets/img/spins1.jpg\" alt=\"spins1\" width=\"600\"/>\n",
        "\n",
        "Now construct a quantum circuit to simulate this case. Note that the Stern-Gerlach setup only <i>analyzes</i> the $\\hat{S}^{x}$ states without recording a measurement. You can mimic this by modifying the function ```measure_sx()``` to ```analyze_sx()``` as follows:\n",
        "\n",
        "```\n",
        "def analyze_sx(circuit,qreg,creg):\n",
        "    circuit.ry(-np.pi/2,qreg)\n",
        "    #circuit.measure(qreg,creg)\n",
        "    circuit.ry(np.pi/2,qreg)\n",
        "    return circuit\n",
        "```\n",
        "\n",
        "This is sloppy programming, but it emphasizes that all you're changing is to delete the actual measurement. The rotation (and anti-rotation) still takes place and represents the \"analyzing\" done in the SPINS software.\n",
        "\n",
        "Interpret your results."
      ]
    },
    {
      "cell_type": "markdown",
      "metadata": {
        "id": "iQWXhLY3Xjgr"
      },
      "source": [
        "<b>Solution:</b>\n",
        "\n",
        "Here's the SPINS result for $N = 10^{4}$:\n",
        "\n",
        "{% include figure.liquid loading=\"eager\" path=\"Mishrakishan/mishrakishan.github.io/assets/img/spins2.jpg\" class=\"img-fluid rounded z-depth-1\" %}\n",
        "\n",
        "Note that all of the selected spins from the first analuzer make it to $+\\frac{\\hbar}{2}$ in the final analyzer. To simulate this:"
      ]
    },
    {
      "cell_type": "code",
      "execution_count": 30,
      "metadata": {
        "id": "dlD3xZr0XeJa"
      },
      "outputs": [],
      "source": [
        "def analyze_sx(circuit,qreg,creg):\n",
        "    circuit.ry(-np.pi/2,qreg)\n",
        "    #circuit.measure(qreg,creg)\n",
        "    circuit.ry(np.pi/2,qreg)\n",
        "    return circuit"
      ]
    },
    {
      "cell_type": "code",
      "execution_count": 31,
      "metadata": {
        "colab": {
          "base_uri": "https://localhost:8080/",
          "height": 191
        },
        "id": "y0IIDHfUXlGt",
        "outputId": "9c55e00a-7358-45a3-86e7-2a93620b2e6f"
      },
      "outputs": [
        {
          "data": {
            "image/png": "[encoded data removed]",
            "text/plain": [
              "<Figure size 371.107x200.667 with 1 Axes>"
            ]
          },
          "execution_count": 31,
          "metadata": {},
          "output_type": "execute_result"
        }
      ],
      "source": [
        "qr = QuantumRegister(1)\n",
        "cr = ClassicalRegister(2)\n",
        "\n",
        "circ = QuantumCircuit(qr,cr)\n",
        "circ = analyze_sx(circ,0,1)\n",
        "circ = measure_sz(circ,0,0)\n",
        "circ.draw('mpl')"
      ]
    },
    {
      "cell_type": "code",
      "execution_count": 32,
      "metadata": {
        "id": "aLTMO1nMXmCL"
      },
      "outputs": [],
      "source": [
        "simulator = AerSimulator()\n",
        "compiled_circuit = transpile(circ, simulator)\n",
        "sim_result = simulator.run(compiled_circuit).result()\n",
        "counts = sim_result.get_counts()"
      ]
    },
    {
      "cell_type": "code",
      "execution_count": 33,
      "metadata": {
        "colab": {
          "base_uri": "https://localhost:8080/",
          "height": 437
        },
        "id": "2fozFVJNXnZi",
        "outputId": "93568618-e179-48da-e3a6-abe45bda04c7"
      },
      "outputs": [
        {
          "data": {
            "image/png": "[encoded data removed]",
            "text/plain": [
              "<Figure size 640x480 with 1 Axes>"
            ]
          },
          "execution_count": 33,
          "metadata": {},
          "output_type": "execute_result"
        }
      ],
      "source": [
        "plot_histogram([counts])"
      ]
    },
    {
      "cell_type": "markdown",
      "metadata": {
        "id": "20OhMSCvXqCL"
      },
      "source": [
        "Despite the rotations involved in \"analyzing\" the spin component, essentially all states still $\\left|+\\right\\rangle$. It appears that the measurement of $\\hat{S}^{x}$ is crucial in destroying the coherence of this initial state."
      ]
    },
    {
      "cell_type": "code",
      "execution_count": null,
      "metadata": {
        "id": "We_v94AlXois"
      },
      "outputs": [],
      "source": []
    }
  ],
  "metadata": {
    "colab": {
      "provenance": []
    },
    "kernelspec": {
      "display_name": "Python 3",
      "name": "python3"
    },
    "language_info": {
      "name": "python"
    }
  },
  "nbformat": 4,
  "nbformat_minor": 0
}
